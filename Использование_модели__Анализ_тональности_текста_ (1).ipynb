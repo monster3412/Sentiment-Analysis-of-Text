{
  "nbformat": 4,
  "nbformat_minor": 0,
  "metadata": {
    "colab": {
      "provenance": []
    },
    "kernelspec": {
      "name": "python3",
      "display_name": "Python 3"
    },
    "language_info": {
      "name": "python"
    }
  },
  "cells": [
    {
      "cell_type": "code",
      "source": [
        "!wget https://huggingface.co/monster3412/Text_Sentiment_Analysis/resolve/main/model.h5\n",
        "!wget https://huggingface.co/monster3412/Text_Sentiment_Analysis/resolve/main/params.json\n",
        "!wget https://huggingface.co/monster3412/Text_Sentiment_Analysis/resolve/main/tokenizer.pkl\n",
        "!wget https://huggingface.co/monster3412/Text_Sentiment_Analysis/resolve/main/requirements.txt"
      ],
      "metadata": {
        "colab": {
          "base_uri": "https://localhost:8080/"
        },
        "id": "bG45CpIYBD8r",
        "outputId": "e0dc63f0-d548-4f36-99d4-67c57bc986c2"
      },
      "execution_count": 16,
      "outputs": [
        {
          "output_type": "stream",
          "name": "stdout",
          "text": [
            "--2025-05-28 13:15:58--  https://huggingface.co/monster3412/Text_Sentiment_Analysis/resolve/main/model.h5\n",
            "Resolving huggingface.co (huggingface.co)... 3.163.189.90, 3.163.189.74, 3.163.189.114, ...\n",
            "Connecting to huggingface.co (huggingface.co)|3.163.189.90|:443... connected.\n",
            "HTTP request sent, awaiting response... 302 Found\n",
            "Location: https://cdn-lfs-us-1.hf.co/repos/cb/95/cb9527b6ca43fbb6ec110fe89c828534aebc8ecdbca5daf4e4d8ca06184c8279/c1d47a03b3381d9f16aa30ec5cfe83b8a68b0cc21117c6bc88901f5a7dcc739d?response-content-disposition=inline%3B+filename*%3DUTF-8%27%27model.h5%3B+filename%3D%22model.h5%22%3B&Expires=1748441758&Policy=eyJTdGF0ZW1lbnQiOlt7IkNvbmRpdGlvbiI6eyJEYXRlTGVzc1RoYW4iOnsiQVdTOkVwb2NoVGltZSI6MTc0ODQ0MTc1OH19LCJSZXNvdXJjZSI6Imh0dHBzOi8vY2RuLWxmcy11cy0xLmhmLmNvL3JlcG9zL2NiLzk1L2NiOTUyN2I2Y2E0M2ZiYjZlYzExMGZlODljODI4NTM0YWViYzhlY2RiY2E1ZGFmNGU0ZDhjYTA2MTg0YzgyNzkvYzFkNDdhMDNiMzM4MWQ5ZjE2YWEzMGVjNWNmZTgzYjhhNjhiMGNjMjExMTdjNmJjODg5MDFmNWE3ZGNjNzM5ZD9yZXNwb25zZS1jb250ZW50LWRpc3Bvc2l0aW9uPSoifV19&Signature=PxmbpW3JuHRJ5krIhoiwIFJ5wJDtfGAm0RoGw43TOsOIskQXXkjGOKX7HeSBZuqQZTTFGWWlj5HhJb3GTOnppOHtWf5%7EcnrpbK4CsSHJfeV%7E9jSmVJscgPfQFfY3Am0v5Yijc8EjZBQTzBjT12KDlkEDz8RZ6VYwLK8Ce-iZaFboj2CsAQht-ATmgav4Xv6gZq%7EA2DmVyja0ONjiS3z7sHVzmT3lrxrC%7Es9tATHmHWHAA0vGD6YOy30Hm7Rr6e0ttZlskcXYkoy9l7GI-8TvbwG978YRDtVxALBdA8Go0tRYHpYy9MV7mgmPuPpTmmjVcvtHn09TdNmfSE6dUSX0FA__&Key-Pair-Id=K24J24Z295AEI9 [following]\n",
            "--2025-05-28 13:15:58--  https://cdn-lfs-us-1.hf.co/repos/cb/95/cb9527b6ca43fbb6ec110fe89c828534aebc8ecdbca5daf4e4d8ca06184c8279/c1d47a03b3381d9f16aa30ec5cfe83b8a68b0cc21117c6bc88901f5a7dcc739d?response-content-disposition=inline%3B+filename*%3DUTF-8%27%27model.h5%3B+filename%3D%22model.h5%22%3B&Expires=1748441758&Policy=eyJTdGF0ZW1lbnQiOlt7IkNvbmRpdGlvbiI6eyJEYXRlTGVzc1RoYW4iOnsiQVdTOkVwb2NoVGltZSI6MTc0ODQ0MTc1OH19LCJSZXNvdXJjZSI6Imh0dHBzOi8vY2RuLWxmcy11cy0xLmhmLmNvL3JlcG9zL2NiLzk1L2NiOTUyN2I2Y2E0M2ZiYjZlYzExMGZlODljODI4NTM0YWViYzhlY2RiY2E1ZGFmNGU0ZDhjYTA2MTg0YzgyNzkvYzFkNDdhMDNiMzM4MWQ5ZjE2YWEzMGVjNWNmZTgzYjhhNjhiMGNjMjExMTdjNmJjODg5MDFmNWE3ZGNjNzM5ZD9yZXNwb25zZS1jb250ZW50LWRpc3Bvc2l0aW9uPSoifV19&Signature=PxmbpW3JuHRJ5krIhoiwIFJ5wJDtfGAm0RoGw43TOsOIskQXXkjGOKX7HeSBZuqQZTTFGWWlj5HhJb3GTOnppOHtWf5%7EcnrpbK4CsSHJfeV%7E9jSmVJscgPfQFfY3Am0v5Yijc8EjZBQTzBjT12KDlkEDz8RZ6VYwLK8Ce-iZaFboj2CsAQht-ATmgav4Xv6gZq%7EA2DmVyja0ONjiS3z7sHVzmT3lrxrC%7Es9tATHmHWHAA0vGD6YOy30Hm7Rr6e0ttZlskcXYkoy9l7GI-8TvbwG978YRDtVxALBdA8Go0tRYHpYy9MV7mgmPuPpTmmjVcvtHn09TdNmfSE6dUSX0FA__&Key-Pair-Id=K24J24Z295AEI9\n",
            "Resolving cdn-lfs-us-1.hf.co (cdn-lfs-us-1.hf.co)... 18.172.170.61, 18.172.170.40, 18.172.170.105, ...\n",
            "Connecting to cdn-lfs-us-1.hf.co (cdn-lfs-us-1.hf.co)|18.172.170.61|:443... connected.\n",
            "HTTP request sent, awaiting response... 200 OK\n",
            "Length: 208347504 (199M) [binary/octet-stream]\n",
            "Saving to: ‘model.h5’\n",
            "\n",
            "model.h5            100%[===================>] 198.70M   119MB/s    in 1.7s    \n",
            "\n",
            "2025-05-28 13:16:00 (119 MB/s) - ‘model.h5’ saved [208347504/208347504]\n",
            "\n",
            "--2025-05-28 13:16:00--  https://huggingface.co/monster3412/Text_Sentiment_Analysis/resolve/main/params.json\n",
            "Resolving huggingface.co (huggingface.co)... 3.163.189.90, 3.163.189.74, 3.163.189.114, ...\n",
            "Connecting to huggingface.co (huggingface.co)|3.163.189.90|:443... connected.\n",
            "HTTP request sent, awaiting response... 200 OK\n",
            "Length: 47 [text/plain]\n",
            "Saving to: ‘params.json’\n",
            "\n",
            "params.json         100%[===================>]      47  --.-KB/s    in 0s      \n",
            "\n",
            "2025-05-28 13:16:00 (20.6 MB/s) - ‘params.json’ saved [47/47]\n",
            "\n",
            "--2025-05-28 13:16:00--  https://huggingface.co/monster3412/Text_Sentiment_Analysis/resolve/main/tokenizer.pkl\n",
            "Resolving huggingface.co (huggingface.co)... 3.163.189.90, 3.163.189.74, 3.163.189.114, ...\n",
            "Connecting to huggingface.co (huggingface.co)|3.163.189.90|:443... connected.\n",
            "HTTP request sent, awaiting response... 302 Found\n",
            "Location: https://cdn-lfs-us-1.hf.co/repos/cb/95/cb9527b6ca43fbb6ec110fe89c828534aebc8ecdbca5daf4e4d8ca06184c8279/abff0610081a2ae52952a1b634b07cb84240872ab746424f5bcfb01230913dde?response-content-disposition=inline%3B+filename*%3DUTF-8%27%27tokenizer.pkl%3B+filename%3D%22tokenizer.pkl%22%3B&Expires=1748441760&Policy=eyJTdGF0ZW1lbnQiOlt7IkNvbmRpdGlvbiI6eyJEYXRlTGVzc1RoYW4iOnsiQVdTOkVwb2NoVGltZSI6MTc0ODQ0MTc2MH19LCJSZXNvdXJjZSI6Imh0dHBzOi8vY2RuLWxmcy11cy0xLmhmLmNvL3JlcG9zL2NiLzk1L2NiOTUyN2I2Y2E0M2ZiYjZlYzExMGZlODljODI4NTM0YWViYzhlY2RiY2E1ZGFmNGU0ZDhjYTA2MTg0YzgyNzkvYWJmZjA2MTAwODFhMmFlNTI5NTJhMWI2MzRiMDdjYjg0MjQwODcyYWI3NDY0MjRmNWJjZmIwMTIzMDkxM2RkZT9yZXNwb25zZS1jb250ZW50LWRpc3Bvc2l0aW9uPSoifV19&Signature=pBKL%7ErlccHc3z4vuAAgS9irBCP%7Es2ipWNGdpRhRMpQx7vfOa76Q%7ETRdsNp6-qVLgOaz5dB4F7tVfnDEes1UJmTybVYUZ7JGil095xurVaRuPfZ4%7EgZJIwdShKRTLgd-pgecVe2c9RmFUI7l-KMwfUDtbH6tbH52Zo-FnozfueiPplHD7vheCNkP2%7EjDIDIdabWjYO00BS7Qd2%7ETl8WEC6pCGbAFvl9K37XoCa7Wi7oYpjtCyobGZEkI9sP5VNh7a6cV1AVf0P%7EOKxYcLXY3izIAyKafsuvtuIUBcyDo%7EqVrRmXJreFYmqy9tLfJmGTSJGxd%7ExddnzvXakE%7EkC7R0wA__&Key-Pair-Id=K24J24Z295AEI9 [following]\n",
            "--2025-05-28 13:16:00--  https://cdn-lfs-us-1.hf.co/repos/cb/95/cb9527b6ca43fbb6ec110fe89c828534aebc8ecdbca5daf4e4d8ca06184c8279/abff0610081a2ae52952a1b634b07cb84240872ab746424f5bcfb01230913dde?response-content-disposition=inline%3B+filename*%3DUTF-8%27%27tokenizer.pkl%3B+filename%3D%22tokenizer.pkl%22%3B&Expires=1748441760&Policy=eyJTdGF0ZW1lbnQiOlt7IkNvbmRpdGlvbiI6eyJEYXRlTGVzc1RoYW4iOnsiQVdTOkVwb2NoVGltZSI6MTc0ODQ0MTc2MH19LCJSZXNvdXJjZSI6Imh0dHBzOi8vY2RuLWxmcy11cy0xLmhmLmNvL3JlcG9zL2NiLzk1L2NiOTUyN2I2Y2E0M2ZiYjZlYzExMGZlODljODI4NTM0YWViYzhlY2RiY2E1ZGFmNGU0ZDhjYTA2MTg0YzgyNzkvYWJmZjA2MTAwODFhMmFlNTI5NTJhMWI2MzRiMDdjYjg0MjQwODcyYWI3NDY0MjRmNWJjZmIwMTIzMDkxM2RkZT9yZXNwb25zZS1jb250ZW50LWRpc3Bvc2l0aW9uPSoifV19&Signature=pBKL%7ErlccHc3z4vuAAgS9irBCP%7Es2ipWNGdpRhRMpQx7vfOa76Q%7ETRdsNp6-qVLgOaz5dB4F7tVfnDEes1UJmTybVYUZ7JGil095xurVaRuPfZ4%7EgZJIwdShKRTLgd-pgecVe2c9RmFUI7l-KMwfUDtbH6tbH52Zo-FnozfueiPplHD7vheCNkP2%7EjDIDIdabWjYO00BS7Qd2%7ETl8WEC6pCGbAFvl9K37XoCa7Wi7oYpjtCyobGZEkI9sP5VNh7a6cV1AVf0P%7EOKxYcLXY3izIAyKafsuvtuIUBcyDo%7EqVrRmXJreFYmqy9tLfJmGTSJGxd%7ExddnzvXakE%7EkC7R0wA__&Key-Pair-Id=K24J24Z295AEI9\n",
            "Resolving cdn-lfs-us-1.hf.co (cdn-lfs-us-1.hf.co)... 3.163.189.69, 3.163.189.121, 3.163.189.113, ...\n",
            "Connecting to cdn-lfs-us-1.hf.co (cdn-lfs-us-1.hf.co)|3.163.189.69|:443... connected.\n",
            "HTTP request sent, awaiting response... 200 OK\n",
            "Length: 8153256 (7.8M) [binary/octet-stream]\n",
            "Saving to: ‘tokenizer.pkl’\n",
            "\n",
            "tokenizer.pkl       100%[===================>]   7.78M  --.-KB/s    in 0.1s    \n",
            "\n",
            "2025-05-28 13:16:00 (74.4 MB/s) - ‘tokenizer.pkl’ saved [8153256/8153256]\n",
            "\n",
            "--2025-05-28 13:16:00--  https://huggingface.co/monster3412/Text_Sentiment_Analysis/resolve/main/requirements.txt\n",
            "Resolving huggingface.co (huggingface.co)... 3.163.189.90, 3.163.189.74, 3.163.189.114, ...\n",
            "Connecting to huggingface.co (huggingface.co)|3.163.189.90|:443... connected.\n",
            "HTTP request sent, awaiting response... 200 OK\n",
            "Length: 93 [text/plain]\n",
            "Saving to: ‘requirements.txt’\n",
            "\n",
            "requirements.txt    100%[===================>]      93  --.-KB/s    in 0s      \n",
            "\n",
            "2025-05-28 13:16:01 (60.5 MB/s) - ‘requirements.txt’ saved [93/93]\n",
            "\n"
          ]
        }
      ]
    },
    {
      "cell_type": "code",
      "execution_count": 17,
      "metadata": {
        "colab": {
          "base_uri": "https://localhost:8080/"
        },
        "id": "tSDj0uGtqQEx",
        "outputId": "cdbd7c2a-2e94-464c-ac8b-3991823db7fd"
      },
      "outputs": [
        {
          "output_type": "stream",
          "name": "stdout",
          "text": [
            "Requirement already satisfied: tensorflow==2.18.0 in /usr/local/lib/python3.11/dist-packages (from -r requirements.txt (line 1)) (2.18.0)\n",
            "Requirement already satisfied: keras==3.8.0 in /usr/local/lib/python3.11/dist-packages (from -r requirements.txt (line 2)) (3.8.0)\n",
            "Requirement already satisfied: pandas==2.2.2 in /usr/local/lib/python3.11/dist-packages (from -r requirements.txt (line 3)) (2.2.2)\n",
            "Requirement already satisfied: nltk==3.9.1 in /usr/local/lib/python3.11/dist-packages (from -r requirements.txt (line 4)) (3.9.1)\n",
            "Requirement already satisfied: numpy==2.0.2 in /usr/local/lib/python3.11/dist-packages (from -r requirements.txt (line 5)) (2.0.2)\n",
            "Requirement already satisfied: pydantic==2.11.4 in /usr/local/lib/python3.11/dist-packages (from -r requirements.txt (line 6)) (2.11.4)\n",
            "Requirement already satisfied: absl-py>=1.0.0 in /usr/local/lib/python3.11/dist-packages (from tensorflow==2.18.0->-r requirements.txt (line 1)) (1.4.0)\n",
            "Requirement already satisfied: astunparse>=1.6.0 in /usr/local/lib/python3.11/dist-packages (from tensorflow==2.18.0->-r requirements.txt (line 1)) (1.6.3)\n",
            "Requirement already satisfied: flatbuffers>=24.3.25 in /usr/local/lib/python3.11/dist-packages (from tensorflow==2.18.0->-r requirements.txt (line 1)) (25.2.10)\n",
            "Requirement already satisfied: gast!=0.5.0,!=0.5.1,!=0.5.2,>=0.2.1 in /usr/local/lib/python3.11/dist-packages (from tensorflow==2.18.0->-r requirements.txt (line 1)) (0.6.0)\n",
            "Requirement already satisfied: google-pasta>=0.1.1 in /usr/local/lib/python3.11/dist-packages (from tensorflow==2.18.0->-r requirements.txt (line 1)) (0.2.0)\n",
            "Requirement already satisfied: libclang>=13.0.0 in /usr/local/lib/python3.11/dist-packages (from tensorflow==2.18.0->-r requirements.txt (line 1)) (18.1.1)\n",
            "Requirement already satisfied: opt-einsum>=2.3.2 in /usr/local/lib/python3.11/dist-packages (from tensorflow==2.18.0->-r requirements.txt (line 1)) (3.4.0)\n",
            "Requirement already satisfied: packaging in /usr/local/lib/python3.11/dist-packages (from tensorflow==2.18.0->-r requirements.txt (line 1)) (24.2)\n",
            "Requirement already satisfied: protobuf!=4.21.0,!=4.21.1,!=4.21.2,!=4.21.3,!=4.21.4,!=4.21.5,<6.0.0dev,>=3.20.3 in /usr/local/lib/python3.11/dist-packages (from tensorflow==2.18.0->-r requirements.txt (line 1)) (5.29.4)\n",
            "Requirement already satisfied: requests<3,>=2.21.0 in /usr/local/lib/python3.11/dist-packages (from tensorflow==2.18.0->-r requirements.txt (line 1)) (2.32.3)\n",
            "Requirement already satisfied: setuptools in /usr/local/lib/python3.11/dist-packages (from tensorflow==2.18.0->-r requirements.txt (line 1)) (75.2.0)\n",
            "Requirement already satisfied: six>=1.12.0 in /usr/local/lib/python3.11/dist-packages (from tensorflow==2.18.0->-r requirements.txt (line 1)) (1.17.0)\n",
            "Requirement already satisfied: termcolor>=1.1.0 in /usr/local/lib/python3.11/dist-packages (from tensorflow==2.18.0->-r requirements.txt (line 1)) (3.1.0)\n",
            "Requirement already satisfied: typing-extensions>=3.6.6 in /usr/local/lib/python3.11/dist-packages (from tensorflow==2.18.0->-r requirements.txt (line 1)) (4.13.2)\n",
            "Requirement already satisfied: wrapt>=1.11.0 in /usr/local/lib/python3.11/dist-packages (from tensorflow==2.18.0->-r requirements.txt (line 1)) (1.17.2)\n",
            "Requirement already satisfied: grpcio<2.0,>=1.24.3 in /usr/local/lib/python3.11/dist-packages (from tensorflow==2.18.0->-r requirements.txt (line 1)) (1.71.0)\n",
            "Requirement already satisfied: tensorboard<2.19,>=2.18 in /usr/local/lib/python3.11/dist-packages (from tensorflow==2.18.0->-r requirements.txt (line 1)) (2.18.0)\n",
            "Requirement already satisfied: h5py>=3.11.0 in /usr/local/lib/python3.11/dist-packages (from tensorflow==2.18.0->-r requirements.txt (line 1)) (3.13.0)\n",
            "Requirement already satisfied: ml-dtypes<0.5.0,>=0.4.0 in /usr/local/lib/python3.11/dist-packages (from tensorflow==2.18.0->-r requirements.txt (line 1)) (0.4.1)\n",
            "Requirement already satisfied: tensorflow-io-gcs-filesystem>=0.23.1 in /usr/local/lib/python3.11/dist-packages (from tensorflow==2.18.0->-r requirements.txt (line 1)) (0.37.1)\n",
            "Requirement already satisfied: rich in /usr/local/lib/python3.11/dist-packages (from keras==3.8.0->-r requirements.txt (line 2)) (13.9.4)\n",
            "Requirement already satisfied: namex in /usr/local/lib/python3.11/dist-packages (from keras==3.8.0->-r requirements.txt (line 2)) (0.0.9)\n",
            "Requirement already satisfied: optree in /usr/local/lib/python3.11/dist-packages (from keras==3.8.0->-r requirements.txt (line 2)) (0.15.0)\n",
            "Requirement already satisfied: python-dateutil>=2.8.2 in /usr/local/lib/python3.11/dist-packages (from pandas==2.2.2->-r requirements.txt (line 3)) (2.9.0.post0)\n",
            "Requirement already satisfied: pytz>=2020.1 in /usr/local/lib/python3.11/dist-packages (from pandas==2.2.2->-r requirements.txt (line 3)) (2025.2)\n",
            "Requirement already satisfied: tzdata>=2022.7 in /usr/local/lib/python3.11/dist-packages (from pandas==2.2.2->-r requirements.txt (line 3)) (2025.2)\n",
            "Requirement already satisfied: click in /usr/local/lib/python3.11/dist-packages (from nltk==3.9.1->-r requirements.txt (line 4)) (8.2.1)\n",
            "Requirement already satisfied: joblib in /usr/local/lib/python3.11/dist-packages (from nltk==3.9.1->-r requirements.txt (line 4)) (1.5.0)\n",
            "Requirement already satisfied: regex>=2021.8.3 in /usr/local/lib/python3.11/dist-packages (from nltk==3.9.1->-r requirements.txt (line 4)) (2024.11.6)\n",
            "Requirement already satisfied: tqdm in /usr/local/lib/python3.11/dist-packages (from nltk==3.9.1->-r requirements.txt (line 4)) (4.67.1)\n",
            "Requirement already satisfied: annotated-types>=0.6.0 in /usr/local/lib/python3.11/dist-packages (from pydantic==2.11.4->-r requirements.txt (line 6)) (0.7.0)\n",
            "Requirement already satisfied: pydantic-core==2.33.2 in /usr/local/lib/python3.11/dist-packages (from pydantic==2.11.4->-r requirements.txt (line 6)) (2.33.2)\n",
            "Requirement already satisfied: typing-inspection>=0.4.0 in /usr/local/lib/python3.11/dist-packages (from pydantic==2.11.4->-r requirements.txt (line 6)) (0.4.1)\n",
            "Requirement already satisfied: wheel<1.0,>=0.23.0 in /usr/local/lib/python3.11/dist-packages (from astunparse>=1.6.0->tensorflow==2.18.0->-r requirements.txt (line 1)) (0.45.1)\n",
            "Requirement already satisfied: charset-normalizer<4,>=2 in /usr/local/lib/python3.11/dist-packages (from requests<3,>=2.21.0->tensorflow==2.18.0->-r requirements.txt (line 1)) (3.4.2)\n",
            "Requirement already satisfied: idna<4,>=2.5 in /usr/local/lib/python3.11/dist-packages (from requests<3,>=2.21.0->tensorflow==2.18.0->-r requirements.txt (line 1)) (3.10)\n",
            "Requirement already satisfied: urllib3<3,>=1.21.1 in /usr/local/lib/python3.11/dist-packages (from requests<3,>=2.21.0->tensorflow==2.18.0->-r requirements.txt (line 1)) (2.4.0)\n",
            "Requirement already satisfied: certifi>=2017.4.17 in /usr/local/lib/python3.11/dist-packages (from requests<3,>=2.21.0->tensorflow==2.18.0->-r requirements.txt (line 1)) (2025.4.26)\n",
            "Requirement already satisfied: markdown>=2.6.8 in /usr/local/lib/python3.11/dist-packages (from tensorboard<2.19,>=2.18->tensorflow==2.18.0->-r requirements.txt (line 1)) (3.8)\n",
            "Requirement already satisfied: tensorboard-data-server<0.8.0,>=0.7.0 in /usr/local/lib/python3.11/dist-packages (from tensorboard<2.19,>=2.18->tensorflow==2.18.0->-r requirements.txt (line 1)) (0.7.2)\n",
            "Requirement already satisfied: werkzeug>=1.0.1 in /usr/local/lib/python3.11/dist-packages (from tensorboard<2.19,>=2.18->tensorflow==2.18.0->-r requirements.txt (line 1)) (3.1.3)\n",
            "Requirement already satisfied: markdown-it-py>=2.2.0 in /usr/local/lib/python3.11/dist-packages (from rich->keras==3.8.0->-r requirements.txt (line 2)) (3.0.0)\n",
            "Requirement already satisfied: pygments<3.0.0,>=2.13.0 in /usr/local/lib/python3.11/dist-packages (from rich->keras==3.8.0->-r requirements.txt (line 2)) (2.19.1)\n",
            "Requirement already satisfied: mdurl~=0.1 in /usr/local/lib/python3.11/dist-packages (from markdown-it-py>=2.2.0->rich->keras==3.8.0->-r requirements.txt (line 2)) (0.1.2)\n",
            "Requirement already satisfied: MarkupSafe>=2.1.1 in /usr/local/lib/python3.11/dist-packages (from werkzeug>=1.0.1->tensorboard<2.19,>=2.18->tensorflow==2.18.0->-r requirements.txt (line 1)) (3.0.2)\n"
          ]
        }
      ],
      "source": [
        "pip install -r requirements.txt"
      ]
    },
    {
      "cell_type": "code",
      "source": [
        "from tensorflow.keras.preprocessing.sequence import pad_sequences\n",
        "import nltk\n",
        "from tensorflow import keras\n",
        "import pickle\n",
        "from nltk.corpus import stopwords\n",
        "import json\n",
        "import re\n",
        "import string\n",
        "nltk.download('stopwords')\n",
        "\n",
        "def predict_sentiment(text, link_to_model_address, link_to_tokenizer_address, link_to_preprocessing_params_address):\n",
        "\n",
        "    model = keras.models.load_model(link_to_model_address)\n",
        "\n",
        "    # Загрузка токенизатора\n",
        "    with open(link_to_tokenizer_address, 'rb') as handle:\n",
        "      tokenizer = pickle.load(handle)\n",
        "\n",
        "    # Загрузка параметров предобработки\n",
        "    with open(link_to_preprocessing_params_address, 'r') as f:\n",
        "      preprocessing_params = json.load(f)\n",
        "\n",
        "    def remove1(text):\n",
        "      p=re.compile(\"<.*?>\")\n",
        "      return p.sub(r\"\",text)\n",
        "\n",
        "    text = remove1(text)\n",
        "\n",
        "    def remove_punctuation(text):\n",
        "      translator=str.maketrans(\"\",\"\",string.punctuation)\n",
        "      return text.translate(translator)\n",
        "\n",
        "    text = remove_punctuation(text)\n",
        "    stop_words = set(stopwords.words('english'))\n",
        "\n",
        "    def remove_text(text):\n",
        "      return \" \".join([word for word in text.split() if word.lower() not in stop_words])\n",
        "\n",
        "    text = remove_text(text)\n",
        "\n",
        "\n",
        "\n",
        "    # Токенизация и паддинг\n",
        "    x_seq = tokenizer.texts_to_sequences([text])\n",
        "    x_pad = pad_sequences(x_seq,\n",
        "                         maxlen=preprocessing_params['max_length'],\n",
        "                         padding=preprocessing_params['padding'])\n",
        "\n",
        "    # Прогноз\n",
        "    prediction = model.predict(x_pad)\n",
        "\n",
        "    predictions = model.predict(x_pad)\n",
        "\n",
        "    sentiment = \"positive\" if predictions[0][1] > 0.5 else \"negative\"\n",
        "\n",
        "    print(f\"Predicted sentiment: {sentiment} (Confidence: {max(predictions[0])})\")\n",
        "\n",
        "\n",
        "# Пример использования, здесь необходимо написать свой путь до файлов\n",
        "\n",
        "text = \"This movie was absolutely  bad!\"\n",
        "\n",
        "link_to_model_address='/content/model.h5'\n",
        "\n",
        "link_to_tokenizer_address='/content/tokenizer.pkl'\n",
        "\n",
        "link_to_preprocessing_params_address= '/content/params.json'\n",
        "\n",
        "predict_sentiment(text,link_to_model_address,link_to_tokenizer_address,link_to_preprocessing_params_address)"
      ],
      "metadata": {
        "colab": {
          "base_uri": "https://localhost:8080/"
        },
        "id": "5mdPnSpkrN0W",
        "outputId": "7fd14d6d-b245-429c-ba1f-bce093bdf078"
      },
      "execution_count": 14,
      "outputs": [
        {
          "output_type": "stream",
          "name": "stderr",
          "text": [
            "[nltk_data] Downloading package stopwords to /root/nltk_data...\n",
            "[nltk_data]   Package stopwords is already up-to-date!\n",
            "WARNING:absl:Compiled the loaded model, but the compiled metrics have yet to be built. `model.compile_metrics` will be empty until you train or evaluate the model.\n"
          ]
        },
        {
          "output_type": "stream",
          "name": "stdout",
          "text": [
            "\u001b[1m1/1\u001b[0m \u001b[32m━━━━━━━━━━━━━━━━━━━━\u001b[0m\u001b[37m\u001b[0m \u001b[1m1s\u001b[0m 1s/step\n",
            "\u001b[1m1/1\u001b[0m \u001b[32m━━━━━━━━━━━━━━━━━━━━\u001b[0m\u001b[37m\u001b[0m \u001b[1m0s\u001b[0m 84ms/step\n",
            "Predicted sentiment: negative (Confidence: 0.7737241983413696)\n"
          ]
        }
      ]
    }
  ]
}